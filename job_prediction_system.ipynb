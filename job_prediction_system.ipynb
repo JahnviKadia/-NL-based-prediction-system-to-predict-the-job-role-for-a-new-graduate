{
  "nbformat": 4,
  "nbformat_minor": 0,
  "metadata": {
    "colab": {
      "name": "AI_A4.ipynb",
      "provenance": []
    },
    "kernelspec": {
      "name": "python3",
      "display_name": "Python 3"
    },
    "language_info": {
      "name": "python"
    }
  },
  "cells": [
    {
      "cell_type": "markdown",
      "metadata": {
        "id": "XGaYMDUbhY1I"
      },
      "source": [
        "**Importing needed libraries**"
      ]
    },
    {
      "cell_type": "code",
      "metadata": {
        "id": "abB05-7KH1-8"
      },
      "source": [
        "import numpy as np\n",
        "import pandas as pd"
      ],
      "execution_count": 395,
      "outputs": []
    },
    {
      "cell_type": "code",
      "metadata": {
        "id": "UV8KUAiJIIY5"
      },
      "source": [
        "from sklearn.preprocessing import LabelEncoder, OrdinalEncoder, StandardScaler, Normalizer\n",
        "from sklearn.model_selection import train_test_split\n",
        "from sklearn.metrics import accuracy_score\n",
        "from sklearn.metrics import confusion_matrix, classification_report\n",
        "from sklearn.preprocessing import Normalizer\n",
        "from keras.models import Sequential\n",
        "from keras.layers import Dense, Activation, Dropout\n",
        "from keras.layers import BatchNormalization\n",
        "from keras.utils import np_utils\n",
        "from tensorflow.keras.optimizers import SGD\n",
        "from tensorflow.keras.optimizers import RMSprop\n",
        "from keras.regularizers import l2\n",
        "from sklearn.model_selection import cross_val_score\n",
        "from scikeras.wrappers import KerasClassifier\n",
        "from sklearn.model_selection import GridSearchCV"
      ],
      "execution_count": 396,
      "outputs": []
    },
    {
      "cell_type": "code",
      "metadata": {
        "id": "OyKSYmKnaNnO"
      },
      "source": [
        "#pip install scikeras"
      ],
      "execution_count": 298,
      "outputs": []
    },
    {
      "cell_type": "code",
      "metadata": {
        "id": "7GpR1-5EIJan"
      },
      "source": [
        "df = pd.read_csv(\"/content/drive/MyDrive/Assignment 4/roo_data.csv\")"
      ],
      "execution_count": 397,
      "outputs": []
    },
    {
      "cell_type": "code",
      "metadata": {
        "colab": {
          "base_uri": "https://localhost:8080/",
          "height": 452
        },
        "id": "-sUSlRIZpY03",
        "outputId": "5b300f2e-e1a5-4a12-88a0-e019d3b2112a"
      },
      "source": [
        "df.head()"
      ],
      "execution_count": 398,
      "outputs": [
        {
          "output_type": "execute_result",
          "data": {
            "text/html": [
              "<div>\n",
              "<style scoped>\n",
              "    .dataframe tbody tr th:only-of-type {\n",
              "        vertical-align: middle;\n",
              "    }\n",
              "\n",
              "    .dataframe tbody tr th {\n",
              "        vertical-align: top;\n",
              "    }\n",
              "\n",
              "    .dataframe thead th {\n",
              "        text-align: right;\n",
              "    }\n",
              "</style>\n",
              "<table border=\"1\" class=\"dataframe\">\n",
              "  <thead>\n",
              "    <tr style=\"text-align: right;\">\n",
              "      <th></th>\n",
              "      <th>Acedamic percentage in Operating Systems</th>\n",
              "      <th>percentage in Algorithms</th>\n",
              "      <th>Percentage in Programming Concepts</th>\n",
              "      <th>Percentage in Software Engineering</th>\n",
              "      <th>Percentage in Computer Networks</th>\n",
              "      <th>Percentage in Electronics Subjects</th>\n",
              "      <th>Percentage in Computer Architecture</th>\n",
              "      <th>Percentage in Mathematics</th>\n",
              "      <th>Percentage in Communication skills</th>\n",
              "      <th>Hours working per day</th>\n",
              "      <th>Logical quotient rating</th>\n",
              "      <th>hackathons</th>\n",
              "      <th>coding skills rating</th>\n",
              "      <th>public speaking points</th>\n",
              "      <th>can work long time before system?</th>\n",
              "      <th>self-learning capability?</th>\n",
              "      <th>Extra-courses did</th>\n",
              "      <th>certifications</th>\n",
              "      <th>workshops</th>\n",
              "      <th>talenttests taken?</th>\n",
              "      <th>olympiads</th>\n",
              "      <th>reading and writing skills</th>\n",
              "      <th>memory capability score</th>\n",
              "      <th>Interested subjects</th>\n",
              "      <th>interested career area</th>\n",
              "      <th>Job/Higher Studies?</th>\n",
              "      <th>Type of company want to settle in?</th>\n",
              "      <th>Taken inputs from seniors or elders</th>\n",
              "      <th>interested in games</th>\n",
              "      <th>Interested Type of Books</th>\n",
              "      <th>Salary Range Expected</th>\n",
              "      <th>In a Realtionship?</th>\n",
              "      <th>Gentle or Tuff behaviour?</th>\n",
              "      <th>Management or Technical</th>\n",
              "      <th>Salary/work</th>\n",
              "      <th>hard/smart worker</th>\n",
              "      <th>worked in teams ever?</th>\n",
              "      <th>Introvert</th>\n",
              "      <th>Suggested Job Role</th>\n",
              "    </tr>\n",
              "  </thead>\n",
              "  <tbody>\n",
              "    <tr>\n",
              "      <th>0</th>\n",
              "      <td>69</td>\n",
              "      <td>63</td>\n",
              "      <td>78</td>\n",
              "      <td>87</td>\n",
              "      <td>94</td>\n",
              "      <td>94</td>\n",
              "      <td>87</td>\n",
              "      <td>84</td>\n",
              "      <td>61</td>\n",
              "      <td>9</td>\n",
              "      <td>4</td>\n",
              "      <td>0</td>\n",
              "      <td>4</td>\n",
              "      <td>8</td>\n",
              "      <td>yes</td>\n",
              "      <td>yes</td>\n",
              "      <td>yes</td>\n",
              "      <td>shell programming</td>\n",
              "      <td>cloud computing</td>\n",
              "      <td>no</td>\n",
              "      <td>yes</td>\n",
              "      <td>excellent</td>\n",
              "      <td>excellent</td>\n",
              "      <td>cloud computing</td>\n",
              "      <td>system developer</td>\n",
              "      <td>higherstudies</td>\n",
              "      <td>Web Services</td>\n",
              "      <td>no</td>\n",
              "      <td>no</td>\n",
              "      <td>Prayer books</td>\n",
              "      <td>salary</td>\n",
              "      <td>no</td>\n",
              "      <td>stubborn</td>\n",
              "      <td>Management</td>\n",
              "      <td>salary</td>\n",
              "      <td>hard worker</td>\n",
              "      <td>yes</td>\n",
              "      <td>no</td>\n",
              "      <td>Database Developer</td>\n",
              "    </tr>\n",
              "    <tr>\n",
              "      <th>1</th>\n",
              "      <td>78</td>\n",
              "      <td>62</td>\n",
              "      <td>73</td>\n",
              "      <td>60</td>\n",
              "      <td>71</td>\n",
              "      <td>70</td>\n",
              "      <td>73</td>\n",
              "      <td>84</td>\n",
              "      <td>91</td>\n",
              "      <td>12</td>\n",
              "      <td>7</td>\n",
              "      <td>1</td>\n",
              "      <td>2</td>\n",
              "      <td>3</td>\n",
              "      <td>yes</td>\n",
              "      <td>no</td>\n",
              "      <td>yes</td>\n",
              "      <td>machine learning</td>\n",
              "      <td>database security</td>\n",
              "      <td>no</td>\n",
              "      <td>no</td>\n",
              "      <td>poor</td>\n",
              "      <td>medium</td>\n",
              "      <td>networks</td>\n",
              "      <td>Business process analyst</td>\n",
              "      <td>job</td>\n",
              "      <td>SAaS services</td>\n",
              "      <td>yes</td>\n",
              "      <td>yes</td>\n",
              "      <td>Childrens</td>\n",
              "      <td>salary</td>\n",
              "      <td>yes</td>\n",
              "      <td>gentle</td>\n",
              "      <td>Technical</td>\n",
              "      <td>salary</td>\n",
              "      <td>hard worker</td>\n",
              "      <td>no</td>\n",
              "      <td>yes</td>\n",
              "      <td>Portal Administrator</td>\n",
              "    </tr>\n",
              "    <tr>\n",
              "      <th>2</th>\n",
              "      <td>71</td>\n",
              "      <td>86</td>\n",
              "      <td>91</td>\n",
              "      <td>87</td>\n",
              "      <td>61</td>\n",
              "      <td>81</td>\n",
              "      <td>72</td>\n",
              "      <td>72</td>\n",
              "      <td>94</td>\n",
              "      <td>11</td>\n",
              "      <td>1</td>\n",
              "      <td>4</td>\n",
              "      <td>1</td>\n",
              "      <td>3</td>\n",
              "      <td>yes</td>\n",
              "      <td>no</td>\n",
              "      <td>yes</td>\n",
              "      <td>app development</td>\n",
              "      <td>web technologies</td>\n",
              "      <td>no</td>\n",
              "      <td>yes</td>\n",
              "      <td>poor</td>\n",
              "      <td>excellent</td>\n",
              "      <td>hacking</td>\n",
              "      <td>developer</td>\n",
              "      <td>higherstudies</td>\n",
              "      <td>Sales and Marketing</td>\n",
              "      <td>yes</td>\n",
              "      <td>yes</td>\n",
              "      <td>Travel</td>\n",
              "      <td>Work</td>\n",
              "      <td>no</td>\n",
              "      <td>stubborn</td>\n",
              "      <td>Management</td>\n",
              "      <td>work</td>\n",
              "      <td>hard worker</td>\n",
              "      <td>no</td>\n",
              "      <td>yes</td>\n",
              "      <td>Portal Administrator</td>\n",
              "    </tr>\n",
              "    <tr>\n",
              "      <th>3</th>\n",
              "      <td>76</td>\n",
              "      <td>87</td>\n",
              "      <td>60</td>\n",
              "      <td>84</td>\n",
              "      <td>89</td>\n",
              "      <td>73</td>\n",
              "      <td>62</td>\n",
              "      <td>88</td>\n",
              "      <td>69</td>\n",
              "      <td>7</td>\n",
              "      <td>1</td>\n",
              "      <td>1</td>\n",
              "      <td>2</td>\n",
              "      <td>5</td>\n",
              "      <td>no</td>\n",
              "      <td>yes</td>\n",
              "      <td>no</td>\n",
              "      <td>python</td>\n",
              "      <td>data science</td>\n",
              "      <td>yes</td>\n",
              "      <td>no</td>\n",
              "      <td>medium</td>\n",
              "      <td>excellent</td>\n",
              "      <td>networks</td>\n",
              "      <td>testing</td>\n",
              "      <td>higherstudies</td>\n",
              "      <td>Testing and Maintainance Services</td>\n",
              "      <td>no</td>\n",
              "      <td>no</td>\n",
              "      <td>Romance</td>\n",
              "      <td>Work</td>\n",
              "      <td>yes</td>\n",
              "      <td>gentle</td>\n",
              "      <td>Management</td>\n",
              "      <td>work</td>\n",
              "      <td>smart worker</td>\n",
              "      <td>yes</td>\n",
              "      <td>yes</td>\n",
              "      <td>Systems Security Administrator</td>\n",
              "    </tr>\n",
              "    <tr>\n",
              "      <th>4</th>\n",
              "      <td>92</td>\n",
              "      <td>62</td>\n",
              "      <td>90</td>\n",
              "      <td>67</td>\n",
              "      <td>71</td>\n",
              "      <td>89</td>\n",
              "      <td>73</td>\n",
              "      <td>71</td>\n",
              "      <td>73</td>\n",
              "      <td>4</td>\n",
              "      <td>5</td>\n",
              "      <td>4</td>\n",
              "      <td>6</td>\n",
              "      <td>3</td>\n",
              "      <td>no</td>\n",
              "      <td>no</td>\n",
              "      <td>no</td>\n",
              "      <td>app development</td>\n",
              "      <td>cloud computing</td>\n",
              "      <td>no</td>\n",
              "      <td>no</td>\n",
              "      <td>poor</td>\n",
              "      <td>excellent</td>\n",
              "      <td>Computer Architecture</td>\n",
              "      <td>testing</td>\n",
              "      <td>higherstudies</td>\n",
              "      <td>product development</td>\n",
              "      <td>no</td>\n",
              "      <td>yes</td>\n",
              "      <td>Cookbooks</td>\n",
              "      <td>salary</td>\n",
              "      <td>no</td>\n",
              "      <td>stubborn</td>\n",
              "      <td>Management</td>\n",
              "      <td>work</td>\n",
              "      <td>hard worker</td>\n",
              "      <td>yes</td>\n",
              "      <td>yes</td>\n",
              "      <td>Business Systems Analyst</td>\n",
              "    </tr>\n",
              "  </tbody>\n",
              "</table>\n",
              "</div>"
            ],
            "text/plain": [
              "   Acedamic percentage in Operating Systems  ...              Suggested Job Role\n",
              "0                                        69  ...              Database Developer\n",
              "1                                        78  ...            Portal Administrator\n",
              "2                                        71  ...            Portal Administrator\n",
              "3                                        76  ...  Systems Security Administrator\n",
              "4                                        92  ...        Business Systems Analyst\n",
              "\n",
              "[5 rows x 39 columns]"
            ]
          },
          "metadata": {},
          "execution_count": 398
        }
      ]
    },
    {
      "cell_type": "markdown",
      "metadata": {
        "id": "JSWPvg1tp3Ai"
      },
      "source": [
        "**Data Describe**"
      ]
    },
    {
      "cell_type": "code",
      "metadata": {
        "colab": {
          "base_uri": "https://localhost:8080/"
        },
        "id": "R_M5xT4Opaa1",
        "outputId": "c2f71d4d-4b92-4bb4-80b3-2e6f0e2737e7"
      },
      "source": [
        "print(df.columns)"
      ],
      "execution_count": 399,
      "outputs": [
        {
          "output_type": "stream",
          "name": "stdout",
          "text": [
            "Index(['Acedamic percentage in Operating Systems', 'percentage in Algorithms',\n",
            "       'Percentage in Programming Concepts',\n",
            "       'Percentage in Software Engineering', 'Percentage in Computer Networks',\n",
            "       'Percentage in Electronics Subjects',\n",
            "       'Percentage in Computer Architecture', 'Percentage in Mathematics',\n",
            "       'Percentage in Communication skills', 'Hours working per day',\n",
            "       'Logical quotient rating', 'hackathons', 'coding skills rating',\n",
            "       'public speaking points', 'can work long time before system?',\n",
            "       'self-learning capability?', 'Extra-courses did', 'certifications',\n",
            "       'workshops', 'talenttests taken?', 'olympiads',\n",
            "       'reading and writing skills', 'memory capability score',\n",
            "       'Interested subjects', 'interested career area ', 'Job/Higher Studies?',\n",
            "       'Type of company want to settle in?',\n",
            "       'Taken inputs from seniors or elders', 'interested in games',\n",
            "       'Interested Type of Books', 'Salary Range Expected',\n",
            "       'In a Realtionship?', 'Gentle or Tuff behaviour?',\n",
            "       'Management or Technical', 'Salary/work', 'hard/smart worker',\n",
            "       'worked in teams ever?', 'Introvert', 'Suggested Job Role'],\n",
            "      dtype='object')\n"
          ]
        }
      ]
    },
    {
      "cell_type": "code",
      "metadata": {
        "colab": {
          "base_uri": "https://localhost:8080/"
        },
        "id": "tCthJAS0pbFW",
        "outputId": "dbc4d1b5-8422-4a50-97aa-e9a26d91fd04"
      },
      "source": [
        "print(\"Number of rows ::\", len(df))\n",
        "print(\"Number of columns ::\", len(df.columns))\n",
        "print(\"Number of rows and columns ::\", len(df.shape))\n",
        "print(\"Number of elements ::\", df.size)"
      ],
      "execution_count": 403,
      "outputs": [
        {
          "output_type": "stream",
          "name": "stdout",
          "text": [
            "Number of rows :: 20000\n",
            "Number of columns :: 39\n",
            "Number of rows and columns :: 2\n",
            "Number of elements :: 780000\n"
          ]
        }
      ]
    },
    {
      "cell_type": "code",
      "metadata": {
        "colab": {
          "base_uri": "https://localhost:8080/"
        },
        "id": "UC-dfeDDpw35",
        "outputId": "5bd3c93e-9670-481d-d10f-2c61caae7a81"
      },
      "source": [
        "df.isnull().sum()"
      ],
      "execution_count": 404,
      "outputs": [
        {
          "output_type": "execute_result",
          "data": {
            "text/plain": [
              "Acedamic percentage in Operating Systems    0\n",
              "percentage in Algorithms                    0\n",
              "Percentage in Programming Concepts          0\n",
              "Percentage in Software Engineering          0\n",
              "Percentage in Computer Networks             0\n",
              "Percentage in Electronics Subjects          0\n",
              "Percentage in Computer Architecture         0\n",
              "Percentage in Mathematics                   0\n",
              "Percentage in Communication skills          0\n",
              "Hours working per day                       0\n",
              "Logical quotient rating                     0\n",
              "hackathons                                  0\n",
              "coding skills rating                        0\n",
              "public speaking points                      0\n",
              "can work long time before system?           0\n",
              "self-learning capability?                   0\n",
              "Extra-courses did                           0\n",
              "certifications                              0\n",
              "workshops                                   0\n",
              "talenttests taken?                          0\n",
              "olympiads                                   0\n",
              "reading and writing skills                  0\n",
              "memory capability score                     0\n",
              "Interested subjects                         0\n",
              "interested career area                      0\n",
              "Job/Higher Studies?                         0\n",
              "Type of company want to settle in?          0\n",
              "Taken inputs from seniors or elders         0\n",
              "interested in games                         0\n",
              "Interested Type of Books                    0\n",
              "Salary Range Expected                       0\n",
              "In a Realtionship?                          0\n",
              "Gentle or Tuff behaviour?                   0\n",
              "Management or Technical                     0\n",
              "Salary/work                                 0\n",
              "hard/smart worker                           0\n",
              "worked in teams ever?                       0\n",
              "Introvert                                   0\n",
              "Suggested Job Role                          0\n",
              "dtype: int64"
            ]
          },
          "metadata": {},
          "execution_count": 404
        }
      ]
    },
    {
      "cell_type": "markdown",
      "metadata": {
        "id": "CGuBV9_vhhVo"
      },
      "source": [
        "**Replacing values of the columns**"
      ]
    },
    {
      "cell_type": "code",
      "metadata": {
        "id": "LJvbkioKIOHb"
      },
      "source": [
        "rep_cert_val = {'shell programming' : 'distro making', \n",
        "                'distro making' : 'distro making',\n",
        "               'machine learning' : 'machine learning' ,\n",
        "                'python': 'machine learning' ,\n",
        "                'r programming' : 'machine learning',\n",
        "               }"
      ],
      "execution_count": 405,
      "outputs": []
    },
    {
      "cell_type": "code",
      "metadata": {
        "id": "yGg8gum_IRd_"
      },
      "source": [
        "df = df.replace({'certifications' : rep_cert_val})"
      ],
      "execution_count": 406,
      "outputs": []
    },
    {
      "cell_type": "code",
      "metadata": {
        "id": "HC6Ua4RoITON"
      },
      "source": [
        "rep_sub_val = {'data engineering' : 'engineering',\n",
        "              'Software Engineering' : 'engineering'}"
      ],
      "execution_count": 407,
      "outputs": []
    },
    {
      "cell_type": "code",
      "metadata": {
        "id": "v3S6CZKiIX61"
      },
      "source": [
        "df = df.replace({'Interested subjects' : rep_sub_val})"
      ],
      "execution_count": 408,
      "outputs": []
    },
    {
      "cell_type": "code",
      "metadata": {
        "id": "WsvwFuuZIY0g"
      },
      "source": [
        "rep_book_val = {'Prayer books' : 'non fiction books', \n",
        "                'Religion-Spirituality' : 'non fiction books', \n",
        "                'Guide' : 'non fiction books', \n",
        "                'Self help' : 'non fiction books',\n",
        "                'Math' : 'refrence books for studies', \n",
        "                'Science' : 'refrence books for studies', \n",
        "                'History' : 'refrence books for studies',\n",
        "                'Art' : 'non fiction books',\n",
        "                'Childrens' : 'fiction books',\n",
        "                'Travel' : 'fiction books', \n",
        "                'Comics' : 'fiction books',\n",
        "               'Romance' : 'fiction books', \n",
        "                'Drama' : 'fiction books',\n",
        "                'Fantasy' : 'fiction books',\n",
        "                'Satire' : 'fiction books',\n",
        "                'Science fiction' : 'fiction books',\n",
        "               'Action and Adventure' : 'fiction books',\n",
        "                'Mystery' : 'fiction books',\n",
        "                'Horror' : 'fiction books',\n",
        "               'Cookbooks' : 'non fiction books',\n",
        "                'Health' : 'non fiction books',\n",
        "               'Anthology' : 'literature book',\n",
        "                'Poetry' : 'literature book',\n",
        "                'Diaries' : 'literature book',\n",
        "                'Journals' : 'literature book',\n",
        "               'Autobiographies' : 'literature books',\n",
        "                'Biographies' : 'literature books',\n",
        "               'Encyclopedias' : 'tertiary source',\n",
        "                'Dictionaries' : 'tertiary source',\n",
        "               'Series' : 'fiction books',\n",
        "                'Trilogy' : 'fiction books'}"
      ],
      "execution_count": 409,
      "outputs": []
    },
    {
      "cell_type": "code",
      "metadata": {
        "id": "pupYVsmqIaJ_"
      },
      "source": [
        "df = df.replace({'Interested Type of Books' : rep_book_val})"
      ],
      "execution_count": 410,
      "outputs": []
    },
    {
      "cell_type": "code",
      "metadata": {
        "id": "P7sXvP6TIbUm"
      },
      "source": [
        "replace_values = {'Database Developer' : 'Developer',\n",
        "                  'Web Developer' : 'Developer',\n",
        "                  'CRM Technical Developer' : 'Developer',\n",
        "                  'Mobile Applications Developer' : 'Developer',\n",
        "                  'Software Developer' : 'Developer',\n",
        "                  'Applications Developer' : 'Developer', \n",
        "                  'Portal Administrator' : 'Administrator',\n",
        "                  'Systems Security Administrator' : 'Administrator',\n",
        "                  'Network Security Administrator' : 'Administrator',\n",
        "                  'Database Administrator' : 'Administrator',\n",
        "                  'Business Systems Analyst' : 'Analyst',\n",
        "                    'Business Intelligence Analyst' : 'Analyst',\n",
        "                    'Information Security Analyst' :'Analyst',\n",
        "                    'CRM Business Analyst' : 'Analyst',\n",
        "                    'Systems Analyst' : 'Analyst',\n",
        "                    'Programmer Analyst' : 'Analyst',\n",
        "                    'E-Commerce Analyst' : 'Analyst',\n",
        "                  'Software Systems Engineer' : 'Engineer',\n",
        "                    'Network Engineer' :'Engineer',\n",
        "                    'Software Engineer' : 'Engineer',\n",
        "                    'Technical Engineer' : 'Engineer',\n",
        "                    'Network Security Engineer' : 'Engineer',\n",
        "                  'UX Designer' : 'Design',\n",
        "                    'Design & UX' :'Design',\n",
        "                  'Quality Assurance Associate' : 'Testing',\n",
        "                    'Software Quality Assurance (QA) / Testing' : 'Testing',\n",
        "                    'Information Technology Auditor' :'Technical Support',\n",
        "                  'Technical Support' :'Technical Support',\n",
        "                    'Technical Services/Help Desk/Tech Support' :'Technical Support',\n",
        "                  'Project Manager' : 'Administrator',\n",
        "                    'Information Technology Manager' : 'Administrator',\n",
        "                    'Database Manager' :'Administrator',\n",
        "                  'Solutions Architect' :'Design',\n",
        "                    'Data Architect' :'Design'}"
      ],
      "execution_count": 411,
      "outputs": []
    },
    {
      "cell_type": "code",
      "metadata": {
        "id": "sC91wYqQIcMb"
      },
      "source": [
        "df = df.replace({'Suggested Job Role' : replace_values})"
      ],
      "execution_count": 412,
      "outputs": []
    },
    {
      "cell_type": "code",
      "metadata": {
        "colab": {
          "base_uri": "https://localhost:8080/",
          "height": 253
        },
        "id": "kQPi5feiryTe",
        "outputId": "7cfbdf37-0951-4e78-ede8-0b4fe9a7f826"
      },
      "source": [
        "df.tail(2)"
      ],
      "execution_count": 413,
      "outputs": [
        {
          "output_type": "execute_result",
          "data": {
            "text/html": [
              "<div>\n",
              "<style scoped>\n",
              "    .dataframe tbody tr th:only-of-type {\n",
              "        vertical-align: middle;\n",
              "    }\n",
              "\n",
              "    .dataframe tbody tr th {\n",
              "        vertical-align: top;\n",
              "    }\n",
              "\n",
              "    .dataframe thead th {\n",
              "        text-align: right;\n",
              "    }\n",
              "</style>\n",
              "<table border=\"1\" class=\"dataframe\">\n",
              "  <thead>\n",
              "    <tr style=\"text-align: right;\">\n",
              "      <th></th>\n",
              "      <th>Acedamic percentage in Operating Systems</th>\n",
              "      <th>percentage in Algorithms</th>\n",
              "      <th>Percentage in Programming Concepts</th>\n",
              "      <th>Percentage in Software Engineering</th>\n",
              "      <th>Percentage in Computer Networks</th>\n",
              "      <th>Percentage in Electronics Subjects</th>\n",
              "      <th>Percentage in Computer Architecture</th>\n",
              "      <th>Percentage in Mathematics</th>\n",
              "      <th>Percentage in Communication skills</th>\n",
              "      <th>Hours working per day</th>\n",
              "      <th>Logical quotient rating</th>\n",
              "      <th>hackathons</th>\n",
              "      <th>coding skills rating</th>\n",
              "      <th>public speaking points</th>\n",
              "      <th>can work long time before system?</th>\n",
              "      <th>self-learning capability?</th>\n",
              "      <th>Extra-courses did</th>\n",
              "      <th>certifications</th>\n",
              "      <th>workshops</th>\n",
              "      <th>talenttests taken?</th>\n",
              "      <th>olympiads</th>\n",
              "      <th>reading and writing skills</th>\n",
              "      <th>memory capability score</th>\n",
              "      <th>Interested subjects</th>\n",
              "      <th>interested career area</th>\n",
              "      <th>Job/Higher Studies?</th>\n",
              "      <th>Type of company want to settle in?</th>\n",
              "      <th>Taken inputs from seniors or elders</th>\n",
              "      <th>interested in games</th>\n",
              "      <th>Interested Type of Books</th>\n",
              "      <th>Salary Range Expected</th>\n",
              "      <th>In a Realtionship?</th>\n",
              "      <th>Gentle or Tuff behaviour?</th>\n",
              "      <th>Management or Technical</th>\n",
              "      <th>Salary/work</th>\n",
              "      <th>hard/smart worker</th>\n",
              "      <th>worked in teams ever?</th>\n",
              "      <th>Introvert</th>\n",
              "      <th>Suggested Job Role</th>\n",
              "    </tr>\n",
              "  </thead>\n",
              "  <tbody>\n",
              "    <tr>\n",
              "      <th>19998</th>\n",
              "      <td>68</td>\n",
              "      <td>87</td>\n",
              "      <td>91</td>\n",
              "      <td>88</td>\n",
              "      <td>66</td>\n",
              "      <td>74</td>\n",
              "      <td>61</td>\n",
              "      <td>87</td>\n",
              "      <td>61</td>\n",
              "      <td>5</td>\n",
              "      <td>1</td>\n",
              "      <td>4</td>\n",
              "      <td>9</td>\n",
              "      <td>5</td>\n",
              "      <td>no</td>\n",
              "      <td>no</td>\n",
              "      <td>no</td>\n",
              "      <td>full stack</td>\n",
              "      <td>cloud computing</td>\n",
              "      <td>no</td>\n",
              "      <td>yes</td>\n",
              "      <td>poor</td>\n",
              "      <td>poor</td>\n",
              "      <td>IOT</td>\n",
              "      <td>testing</td>\n",
              "      <td>job</td>\n",
              "      <td>Cloud Services</td>\n",
              "      <td>yes</td>\n",
              "      <td>no</td>\n",
              "      <td>fiction books</td>\n",
              "      <td>Work</td>\n",
              "      <td>no</td>\n",
              "      <td>gentle</td>\n",
              "      <td>Management</td>\n",
              "      <td>work</td>\n",
              "      <td>smart worker</td>\n",
              "      <td>yes</td>\n",
              "      <td>no</td>\n",
              "      <td>Testing</td>\n",
              "    </tr>\n",
              "    <tr>\n",
              "      <th>19999</th>\n",
              "      <td>73</td>\n",
              "      <td>77</td>\n",
              "      <td>74</td>\n",
              "      <td>84</td>\n",
              "      <td>70</td>\n",
              "      <td>65</td>\n",
              "      <td>92</td>\n",
              "      <td>73</td>\n",
              "      <td>90</td>\n",
              "      <td>7</td>\n",
              "      <td>3</td>\n",
              "      <td>1</td>\n",
              "      <td>7</td>\n",
              "      <td>6</td>\n",
              "      <td>yes</td>\n",
              "      <td>yes</td>\n",
              "      <td>yes</td>\n",
              "      <td>app development</td>\n",
              "      <td>database security</td>\n",
              "      <td>no</td>\n",
              "      <td>yes</td>\n",
              "      <td>excellent</td>\n",
              "      <td>excellent</td>\n",
              "      <td>IOT</td>\n",
              "      <td>testing</td>\n",
              "      <td>job</td>\n",
              "      <td>Finance</td>\n",
              "      <td>yes</td>\n",
              "      <td>no</td>\n",
              "      <td>fiction books</td>\n",
              "      <td>Work</td>\n",
              "      <td>no</td>\n",
              "      <td>gentle</td>\n",
              "      <td>Management</td>\n",
              "      <td>work</td>\n",
              "      <td>hard worker</td>\n",
              "      <td>yes</td>\n",
              "      <td>no</td>\n",
              "      <td>Developer</td>\n",
              "    </tr>\n",
              "  </tbody>\n",
              "</table>\n",
              "</div>"
            ],
            "text/plain": [
              "       Acedamic percentage in Operating Systems  ...  Suggested Job Role\n",
              "19998                                        68  ...             Testing\n",
              "19999                                        73  ...           Developer\n",
              "\n",
              "[2 rows x 39 columns]"
            ]
          },
          "metadata": {},
          "execution_count": 413
        }
      ]
    },
    {
      "cell_type": "markdown",
      "metadata": {
        "id": "JQ48CasRihq1"
      },
      "source": [
        "**Divide the dataset into features and target**"
      ]
    },
    {
      "cell_type": "code",
      "metadata": {
        "id": "dyoyTrYdIdUY"
      },
      "source": [
        "X = df.iloc[:,:-1].values\n",
        "y = df.iloc[:,-1].values"
      ],
      "execution_count": 414,
      "outputs": []
    },
    {
      "cell_type": "markdown",
      "metadata": {
        "id": "8bNJmMvMinvL"
      },
      "source": [
        "**Ordinal encoding for converting categorical values of features**"
      ]
    },
    {
      "cell_type": "code",
      "metadata": {
        "id": "d3TMjIGdIeQ0"
      },
      "source": [
        "ordinal = OrdinalEncoder()"
      ],
      "execution_count": 415,
      "outputs": []
    },
    {
      "cell_type": "code",
      "metadata": {
        "id": "fEF7Y6n4L0aQ"
      },
      "source": [
        "X_ord = ordinal.fit_transform(X)"
      ],
      "execution_count": 416,
      "outputs": []
    },
    {
      "cell_type": "markdown",
      "metadata": {
        "id": "535bua1jiwLi"
      },
      "source": [
        "**normalizinf features with Normalizer**"
      ]
    },
    {
      "cell_type": "code",
      "metadata": {
        "id": "UnAhvKYbI0pp"
      },
      "source": [
        "X_norm = Normalizer().fit_transform(X_ord)"
      ],
      "execution_count": 417,
      "outputs": []
    },
    {
      "cell_type": "code",
      "metadata": {
        "id": "Ky-5IDX7MjD7"
      },
      "source": [
        "feature = pd.DataFrame(X_norm, columns=['Acedamic percentage in Operating Systems', 'percentage in Algorithms',\n",
        "       'Percentage in Programming Concepts',\n",
        "       'Percentage in Software Engineering', 'Percentage in Computer Networks',\n",
        "       'Percentage in Electronics Subjects',\n",
        "       'Percentage in Computer Architecture', 'Percentage in Mathematics',\n",
        "       'Percentage in Communication skills', 'Hours working per day',\n",
        "       'Logical quotient rating', 'hackathons', 'coding skills rating',\n",
        "       'public speaking points', 'can work long time before system?',\n",
        "       'self-learning capability?', 'Extra-courses did', 'certifications',\n",
        "       'workshops', 'talenttests taken?', 'olympiads',\n",
        "       'reading and writing skills', 'memory capability score',\n",
        "       'Interested subjects', 'interested career area ', 'Job/Higher Studies?',\n",
        "       'Type of company want to settle in?',\n",
        "       'Taken inputs from seniors or elders', 'interested in games',\n",
        "       'Interested Type of Books', 'Salary Range Expected',\n",
        "       'In a Realtionship?', 'Gentle or Tuff behaviour?',\n",
        "       'Management or Technical', 'Salary/work', 'hard/smart worker',\n",
        "       'worked in teams ever?', 'Introvert'])"
      ],
      "execution_count": 418,
      "outputs": []
    },
    {
      "cell_type": "code",
      "metadata": {
        "colab": {
          "base_uri": "https://localhost:8080/",
          "height": 313
        },
        "id": "JqPxcereJ11U",
        "outputId": "5cb52aac-6f65-47ea-bfb5-07b38a98e067"
      },
      "source": [
        "feature.tail()"
      ],
      "execution_count": 419,
      "outputs": [
        {
          "output_type": "execute_result",
          "data": {
            "text/html": [
              "<div>\n",
              "<style scoped>\n",
              "    .dataframe tbody tr th:only-of-type {\n",
              "        vertical-align: middle;\n",
              "    }\n",
              "\n",
              "    .dataframe tbody tr th {\n",
              "        vertical-align: top;\n",
              "    }\n",
              "\n",
              "    .dataframe thead th {\n",
              "        text-align: right;\n",
              "    }\n",
              "</style>\n",
              "<table border=\"1\" class=\"dataframe\">\n",
              "  <thead>\n",
              "    <tr style=\"text-align: right;\">\n",
              "      <th></th>\n",
              "      <th>Acedamic percentage in Operating Systems</th>\n",
              "      <th>percentage in Algorithms</th>\n",
              "      <th>Percentage in Programming Concepts</th>\n",
              "      <th>Percentage in Software Engineering</th>\n",
              "      <th>Percentage in Computer Networks</th>\n",
              "      <th>Percentage in Electronics Subjects</th>\n",
              "      <th>Percentage in Computer Architecture</th>\n",
              "      <th>Percentage in Mathematics</th>\n",
              "      <th>Percentage in Communication skills</th>\n",
              "      <th>Hours working per day</th>\n",
              "      <th>Logical quotient rating</th>\n",
              "      <th>hackathons</th>\n",
              "      <th>coding skills rating</th>\n",
              "      <th>public speaking points</th>\n",
              "      <th>can work long time before system?</th>\n",
              "      <th>self-learning capability?</th>\n",
              "      <th>Extra-courses did</th>\n",
              "      <th>certifications</th>\n",
              "      <th>workshops</th>\n",
              "      <th>talenttests taken?</th>\n",
              "      <th>olympiads</th>\n",
              "      <th>reading and writing skills</th>\n",
              "      <th>memory capability score</th>\n",
              "      <th>Interested subjects</th>\n",
              "      <th>interested career area</th>\n",
              "      <th>Job/Higher Studies?</th>\n",
              "      <th>Type of company want to settle in?</th>\n",
              "      <th>Taken inputs from seniors or elders</th>\n",
              "      <th>interested in games</th>\n",
              "      <th>Interested Type of Books</th>\n",
              "      <th>Salary Range Expected</th>\n",
              "      <th>In a Realtionship?</th>\n",
              "      <th>Gentle or Tuff behaviour?</th>\n",
              "      <th>Management or Technical</th>\n",
              "      <th>Salary/work</th>\n",
              "      <th>hard/smart worker</th>\n",
              "      <th>worked in teams ever?</th>\n",
              "      <th>Introvert</th>\n",
              "    </tr>\n",
              "  </thead>\n",
              "  <tbody>\n",
              "    <tr>\n",
              "      <th>19995</th>\n",
              "      <td>0.422392</td>\n",
              "      <td>0.128554</td>\n",
              "      <td>0.036730</td>\n",
              "      <td>0.055095</td>\n",
              "      <td>0.385662</td>\n",
              "      <td>0.257108</td>\n",
              "      <td>0.550946</td>\n",
              "      <td>0.440757</td>\n",
              "      <td>0.165284</td>\n",
              "      <td>0.000000</td>\n",
              "      <td>0.018365</td>\n",
              "      <td>0.110189</td>\n",
              "      <td>0.000000</td>\n",
              "      <td>0.128554</td>\n",
              "      <td>0.018365</td>\n",
              "      <td>0.000000</td>\n",
              "      <td>0.000000</td>\n",
              "      <td>0.000000</td>\n",
              "      <td>0.000000</td>\n",
              "      <td>0.018365</td>\n",
              "      <td>0.000000</td>\n",
              "      <td>0.036730</td>\n",
              "      <td>0.000000</td>\n",
              "      <td>0.073459</td>\n",
              "      <td>0.073459</td>\n",
              "      <td>0.018365</td>\n",
              "      <td>0.128554</td>\n",
              "      <td>0.000000</td>\n",
              "      <td>0.018365</td>\n",
              "      <td>0.018365</td>\n",
              "      <td>0.000000</td>\n",
              "      <td>0.018365</td>\n",
              "      <td>0.018365</td>\n",
              "      <td>0.00000</td>\n",
              "      <td>0.000000</td>\n",
              "      <td>0.018365</td>\n",
              "      <td>0.018365</td>\n",
              "      <td>0.000000</td>\n",
              "    </tr>\n",
              "    <tr>\n",
              "      <th>19996</th>\n",
              "      <td>0.334170</td>\n",
              "      <td>0.150376</td>\n",
              "      <td>0.384295</td>\n",
              "      <td>0.451129</td>\n",
              "      <td>0.367587</td>\n",
              "      <td>0.100251</td>\n",
              "      <td>0.100251</td>\n",
              "      <td>0.534672</td>\n",
              "      <td>0.116959</td>\n",
              "      <td>0.050125</td>\n",
              "      <td>0.116959</td>\n",
              "      <td>0.000000</td>\n",
              "      <td>0.133668</td>\n",
              "      <td>0.116959</td>\n",
              "      <td>0.016708</td>\n",
              "      <td>0.000000</td>\n",
              "      <td>0.000000</td>\n",
              "      <td>0.033417</td>\n",
              "      <td>0.050125</td>\n",
              "      <td>0.000000</td>\n",
              "      <td>0.016708</td>\n",
              "      <td>0.016708</td>\n",
              "      <td>0.000000</td>\n",
              "      <td>0.033417</td>\n",
              "      <td>0.000000</td>\n",
              "      <td>0.000000</td>\n",
              "      <td>0.050125</td>\n",
              "      <td>0.016708</td>\n",
              "      <td>0.016708</td>\n",
              "      <td>0.050125</td>\n",
              "      <td>0.016708</td>\n",
              "      <td>0.000000</td>\n",
              "      <td>0.016708</td>\n",
              "      <td>0.00000</td>\n",
              "      <td>0.000000</td>\n",
              "      <td>0.000000</td>\n",
              "      <td>0.000000</td>\n",
              "      <td>0.016708</td>\n",
              "    </tr>\n",
              "    <tr>\n",
              "      <th>19997</th>\n",
              "      <td>0.340638</td>\n",
              "      <td>0.148103</td>\n",
              "      <td>0.296207</td>\n",
              "      <td>0.399879</td>\n",
              "      <td>0.059241</td>\n",
              "      <td>0.370259</td>\n",
              "      <td>0.133293</td>\n",
              "      <td>0.503552</td>\n",
              "      <td>0.414690</td>\n",
              "      <td>0.044431</td>\n",
              "      <td>0.029621</td>\n",
              "      <td>0.088862</td>\n",
              "      <td>0.014810</td>\n",
              "      <td>0.029621</td>\n",
              "      <td>0.014810</td>\n",
              "      <td>0.014810</td>\n",
              "      <td>0.014810</td>\n",
              "      <td>0.059241</td>\n",
              "      <td>0.029621</td>\n",
              "      <td>0.014810</td>\n",
              "      <td>0.014810</td>\n",
              "      <td>0.014810</td>\n",
              "      <td>0.000000</td>\n",
              "      <td>0.088862</td>\n",
              "      <td>0.014810</td>\n",
              "      <td>0.000000</td>\n",
              "      <td>0.059241</td>\n",
              "      <td>0.014810</td>\n",
              "      <td>0.014810</td>\n",
              "      <td>0.000000</td>\n",
              "      <td>0.000000</td>\n",
              "      <td>0.014810</td>\n",
              "      <td>0.000000</td>\n",
              "      <td>0.01481</td>\n",
              "      <td>0.014810</td>\n",
              "      <td>0.000000</td>\n",
              "      <td>0.000000</td>\n",
              "      <td>0.014810</td>\n",
              "    </tr>\n",
              "    <tr>\n",
              "      <th>19998</th>\n",
              "      <td>0.132544</td>\n",
              "      <td>0.447336</td>\n",
              "      <td>0.513608</td>\n",
              "      <td>0.463904</td>\n",
              "      <td>0.099408</td>\n",
              "      <td>0.231952</td>\n",
              "      <td>0.016568</td>\n",
              "      <td>0.447336</td>\n",
              "      <td>0.016568</td>\n",
              "      <td>0.016568</td>\n",
              "      <td>0.000000</td>\n",
              "      <td>0.066272</td>\n",
              "      <td>0.132544</td>\n",
              "      <td>0.066272</td>\n",
              "      <td>0.000000</td>\n",
              "      <td>0.000000</td>\n",
              "      <td>0.000000</td>\n",
              "      <td>0.033136</td>\n",
              "      <td>0.000000</td>\n",
              "      <td>0.000000</td>\n",
              "      <td>0.016568</td>\n",
              "      <td>0.033136</td>\n",
              "      <td>0.033136</td>\n",
              "      <td>0.016568</td>\n",
              "      <td>0.082840</td>\n",
              "      <td>0.016568</td>\n",
              "      <td>0.016568</td>\n",
              "      <td>0.016568</td>\n",
              "      <td>0.000000</td>\n",
              "      <td>0.000000</td>\n",
              "      <td>0.000000</td>\n",
              "      <td>0.000000</td>\n",
              "      <td>0.000000</td>\n",
              "      <td>0.00000</td>\n",
              "      <td>0.016568</td>\n",
              "      <td>0.016568</td>\n",
              "      <td>0.016568</td>\n",
              "      <td>0.000000</td>\n",
              "    </tr>\n",
              "    <tr>\n",
              "      <th>19999</th>\n",
              "      <td>0.217728</td>\n",
              "      <td>0.284721</td>\n",
              "      <td>0.234476</td>\n",
              "      <td>0.401959</td>\n",
              "      <td>0.167483</td>\n",
              "      <td>0.083741</td>\n",
              "      <td>0.535945</td>\n",
              "      <td>0.217728</td>\n",
              "      <td>0.502448</td>\n",
              "      <td>0.050245</td>\n",
              "      <td>0.033497</td>\n",
              "      <td>0.016748</td>\n",
              "      <td>0.100490</td>\n",
              "      <td>0.083741</td>\n",
              "      <td>0.016748</td>\n",
              "      <td>0.016748</td>\n",
              "      <td>0.016748</td>\n",
              "      <td>0.000000</td>\n",
              "      <td>0.033497</td>\n",
              "      <td>0.000000</td>\n",
              "      <td>0.016748</td>\n",
              "      <td>0.000000</td>\n",
              "      <td>0.000000</td>\n",
              "      <td>0.016748</td>\n",
              "      <td>0.083741</td>\n",
              "      <td>0.016748</td>\n",
              "      <td>0.033497</td>\n",
              "      <td>0.016748</td>\n",
              "      <td>0.000000</td>\n",
              "      <td>0.000000</td>\n",
              "      <td>0.000000</td>\n",
              "      <td>0.000000</td>\n",
              "      <td>0.000000</td>\n",
              "      <td>0.00000</td>\n",
              "      <td>0.016748</td>\n",
              "      <td>0.000000</td>\n",
              "      <td>0.016748</td>\n",
              "      <td>0.000000</td>\n",
              "    </tr>\n",
              "  </tbody>\n",
              "</table>\n",
              "</div>"
            ],
            "text/plain": [
              "       Acedamic percentage in Operating Systems  ...  Introvert\n",
              "19995                                  0.422392  ...   0.000000\n",
              "19996                                  0.334170  ...   0.016708\n",
              "19997                                  0.340638  ...   0.014810\n",
              "19998                                  0.132544  ...   0.000000\n",
              "19999                                  0.217728  ...   0.000000\n",
              "\n",
              "[5 rows x 38 columns]"
            ]
          },
          "metadata": {},
          "execution_count": 419
        }
      ]
    },
    {
      "cell_type": "markdown",
      "metadata": {
        "id": "dfmVFN-bjImE"
      },
      "source": [
        "**label encoding for converting categorical values of target**"
      ]
    },
    {
      "cell_type": "code",
      "metadata": {
        "id": "Qf7oqp5_J3DC"
      },
      "source": [
        "label = LabelEncoder()"
      ],
      "execution_count": 420,
      "outputs": []
    },
    {
      "cell_type": "code",
      "metadata": {
        "id": "XoQvcTSwKCoE"
      },
      "source": [
        "y = label.fit_transform(y)"
      ],
      "execution_count": 421,
      "outputs": []
    },
    {
      "cell_type": "code",
      "metadata": {
        "id": "261hDIy2Kaze"
      },
      "source": [
        "label = pd.DataFrame(y, columns=['Suggested Job Role'])"
      ],
      "execution_count": 422,
      "outputs": []
    },
    {
      "cell_type": "code",
      "metadata": {
        "colab": {
          "base_uri": "https://localhost:8080/"
        },
        "id": "4lU5EC5pKEjS",
        "outputId": "a775ba15-60c6-4482-8180-df858982fedf"
      },
      "source": [
        "label = np.ravel(label)\n",
        "label.shape"
      ],
      "execution_count": 423,
      "outputs": [
        {
          "output_type": "execute_result",
          "data": {
            "text/plain": [
              "(20000,)"
            ]
          },
          "metadata": {},
          "execution_count": 423
        }
      ]
    },
    {
      "cell_type": "markdown",
      "metadata": {
        "id": "v7Sk-krPjtCG"
      },
      "source": [
        "## **Keras Model**"
      ]
    },
    {
      "cell_type": "code",
      "metadata": {
        "id": "BMV4Jh5sKKbF"
      },
      "source": [
        "trainX, testX, trainy, testy = train_test_split(feature,\n",
        "                                label,\n",
        "                                test_size=0.1,\n",
        "                                random_state=42)"
      ],
      "execution_count": 424,
      "outputs": []
    },
    {
      "cell_type": "markdown",
      "metadata": {
        "id": "-EOp_Ul8jUzR"
      },
      "source": [
        "**converted to numpy array with total number of classes are 7**"
      ]
    },
    {
      "cell_type": "code",
      "metadata": {
        "id": "JLzrBGnNKvSA"
      },
      "source": [
        "trainy_cat = np_utils.to_categorical(trainy, num_classes=7)\n",
        "testy_cat = np_utils.to_categorical(testy, num_classes=7)"
      ],
      "execution_count": 425,
      "outputs": []
    },
    {
      "cell_type": "code",
      "metadata": {
        "colab": {
          "base_uri": "https://localhost:8080/"
        },
        "id": "DqUtsAVOM7sH",
        "outputId": "97b0355e-1195-4607-feb8-33f87c905319"
      },
      "source": [
        "print('y_train shape::', trainy_cat.shape)\n",
        "print('y_test shape::', testy_cat.shape)"
      ],
      "execution_count": 426,
      "outputs": [
        {
          "output_type": "stream",
          "name": "stdout",
          "text": [
            "y_train shape:: (18000, 7)\n",
            "y_test shape:: (2000, 7)\n"
          ]
        }
      ]
    },
    {
      "cell_type": "markdown",
      "metadata": {
        "id": "xRzbw0MNkiOM"
      },
      "source": [
        "**sequential model with 2 hidden layers, batch normalization and dropout(for regularization)**"
      ]
    },
    {
      "cell_type": "code",
      "metadata": {
        "id": "11V-JGAENElT"
      },
      "source": [
        "# define the model\n",
        "model = Sequential()\n",
        "\n",
        "model.add(Dense(100, input_dim=trainX.shape[1], activation='relu', kernel_initializer='uniform'))\n",
        "\n",
        "model.add(Dense(60, activation = 'relu', kernel_initializer='uniform'))\n",
        "model.add(BatchNormalization())\n",
        "model.add(Dropout(0.2))\n",
        "\n",
        "model.add(Dense(40, activation = 'relu', kernel_initializer='uniform'))\n",
        "model.add(BatchNormalization())\n",
        "model.add(Dropout(0.2))\n",
        "\n",
        "model.add(Dense(7, activation='softmax', kernel_initializer='uniform'))\n",
        "\n"
      ],
      "execution_count": 427,
      "outputs": []
    },
    {
      "cell_type": "code",
      "metadata": {
        "id": "_Y2YFG3bNM3r"
      },
      "source": [
        "# compile the keras model\n",
        "#decay_rate = 0.1 / 100\n",
        "#sgd = SGD(learning_rate=0.1, momentum=0.8, decay=decay_rate, nesterov=False)\n",
        "model.compile(loss='categorical_crossentropy', optimizer='sgd', metrics=['accuracy'])\n"
      ],
      "execution_count": 428,
      "outputs": []
    },
    {
      "cell_type": "code",
      "metadata": {
        "colab": {
          "base_uri": "https://localhost:8080/"
        },
        "id": "JWocuCXSNP34",
        "outputId": "a1ee80b6-efa0-4b59-e3a5-219fa3675632"
      },
      "source": [
        "# fit the keras model on the dataset\n",
        "model.fit(trainX, trainy_cat, epochs=60, batch_size=250, verbose=2)"
      ],
      "execution_count": 429,
      "outputs": [
        {
          "output_type": "stream",
          "name": "stdout",
          "text": [
            "Epoch 1/60\n",
            "72/72 - 1s - loss: 1.9394 - accuracy: 0.1779 - 918ms/epoch - 13ms/step\n",
            "Epoch 2/60\n",
            "72/72 - 0s - loss: 1.9243 - accuracy: 0.2204 - 206ms/epoch - 3ms/step\n",
            "Epoch 3/60\n",
            "72/72 - 0s - loss: 1.9127 - accuracy: 0.2280 - 220ms/epoch - 3ms/step\n",
            "Epoch 4/60\n",
            "72/72 - 0s - loss: 1.9033 - accuracy: 0.2310 - 242ms/epoch - 3ms/step\n",
            "Epoch 5/60\n",
            "72/72 - 0s - loss: 1.8957 - accuracy: 0.2309 - 221ms/epoch - 3ms/step\n",
            "Epoch 6/60\n",
            "72/72 - 0s - loss: 1.8895 - accuracy: 0.2312 - 217ms/epoch - 3ms/step\n",
            "Epoch 7/60\n",
            "72/72 - 0s - loss: 1.8841 - accuracy: 0.2320 - 219ms/epoch - 3ms/step\n",
            "Epoch 8/60\n",
            "72/72 - 0s - loss: 1.8802 - accuracy: 0.2302 - 197ms/epoch - 3ms/step\n",
            "Epoch 9/60\n",
            "72/72 - 0s - loss: 1.8768 - accuracy: 0.2311 - 232ms/epoch - 3ms/step\n",
            "Epoch 10/60\n",
            "72/72 - 0s - loss: 1.8742 - accuracy: 0.2314 - 214ms/epoch - 3ms/step\n",
            "Epoch 11/60\n",
            "72/72 - 0s - loss: 1.8718 - accuracy: 0.2308 - 192ms/epoch - 3ms/step\n",
            "Epoch 12/60\n",
            "72/72 - 0s - loss: 1.8698 - accuracy: 0.2318 - 187ms/epoch - 3ms/step\n",
            "Epoch 13/60\n",
            "72/72 - 0s - loss: 1.8681 - accuracy: 0.2322 - 192ms/epoch - 3ms/step\n",
            "Epoch 14/60\n",
            "72/72 - 0s - loss: 1.8669 - accuracy: 0.2318 - 196ms/epoch - 3ms/step\n",
            "Epoch 15/60\n",
            "72/72 - 0s - loss: 1.8654 - accuracy: 0.2318 - 197ms/epoch - 3ms/step\n",
            "Epoch 16/60\n",
            "72/72 - 0s - loss: 1.8646 - accuracy: 0.2314 - 208ms/epoch - 3ms/step\n",
            "Epoch 17/60\n",
            "72/72 - 0s - loss: 1.8639 - accuracy: 0.2316 - 190ms/epoch - 3ms/step\n",
            "Epoch 18/60\n",
            "72/72 - 0s - loss: 1.8634 - accuracy: 0.2316 - 208ms/epoch - 3ms/step\n",
            "Epoch 19/60\n",
            "72/72 - 0s - loss: 1.8622 - accuracy: 0.2314 - 224ms/epoch - 3ms/step\n",
            "Epoch 20/60\n",
            "72/72 - 0s - loss: 1.8615 - accuracy: 0.2317 - 205ms/epoch - 3ms/step\n",
            "Epoch 21/60\n",
            "72/72 - 0s - loss: 1.8613 - accuracy: 0.2324 - 190ms/epoch - 3ms/step\n",
            "Epoch 22/60\n",
            "72/72 - 0s - loss: 1.8612 - accuracy: 0.2321 - 202ms/epoch - 3ms/step\n",
            "Epoch 23/60\n",
            "72/72 - 0s - loss: 1.8605 - accuracy: 0.2319 - 199ms/epoch - 3ms/step\n",
            "Epoch 24/60\n",
            "72/72 - 0s - loss: 1.8598 - accuracy: 0.2318 - 217ms/epoch - 3ms/step\n",
            "Epoch 25/60\n",
            "72/72 - 0s - loss: 1.8599 - accuracy: 0.2332 - 191ms/epoch - 3ms/step\n",
            "Epoch 26/60\n",
            "72/72 - 0s - loss: 1.8598 - accuracy: 0.2318 - 199ms/epoch - 3ms/step\n",
            "Epoch 27/60\n",
            "72/72 - 0s - loss: 1.8593 - accuracy: 0.2325 - 191ms/epoch - 3ms/step\n",
            "Epoch 28/60\n",
            "72/72 - 0s - loss: 1.8591 - accuracy: 0.2326 - 210ms/epoch - 3ms/step\n",
            "Epoch 29/60\n",
            "72/72 - 0s - loss: 1.8587 - accuracy: 0.2309 - 222ms/epoch - 3ms/step\n",
            "Epoch 30/60\n",
            "72/72 - 0s - loss: 1.8590 - accuracy: 0.2321 - 213ms/epoch - 3ms/step\n",
            "Epoch 31/60\n",
            "72/72 - 0s - loss: 1.8582 - accuracy: 0.2322 - 220ms/epoch - 3ms/step\n",
            "Epoch 32/60\n",
            "72/72 - 0s - loss: 1.8582 - accuracy: 0.2319 - 196ms/epoch - 3ms/step\n",
            "Epoch 33/60\n",
            "72/72 - 0s - loss: 1.8579 - accuracy: 0.2324 - 204ms/epoch - 3ms/step\n",
            "Epoch 34/60\n",
            "72/72 - 0s - loss: 1.8585 - accuracy: 0.2319 - 196ms/epoch - 3ms/step\n",
            "Epoch 35/60\n",
            "72/72 - 0s - loss: 1.8576 - accuracy: 0.2316 - 188ms/epoch - 3ms/step\n",
            "Epoch 36/60\n",
            "72/72 - 0s - loss: 1.8580 - accuracy: 0.2330 - 197ms/epoch - 3ms/step\n",
            "Epoch 37/60\n",
            "72/72 - 0s - loss: 1.8578 - accuracy: 0.2328 - 186ms/epoch - 3ms/step\n",
            "Epoch 38/60\n",
            "72/72 - 0s - loss: 1.8577 - accuracy: 0.2326 - 195ms/epoch - 3ms/step\n",
            "Epoch 39/60\n",
            "72/72 - 0s - loss: 1.8573 - accuracy: 0.2324 - 197ms/epoch - 3ms/step\n",
            "Epoch 40/60\n",
            "72/72 - 0s - loss: 1.8570 - accuracy: 0.2324 - 187ms/epoch - 3ms/step\n",
            "Epoch 41/60\n",
            "72/72 - 0s - loss: 1.8576 - accuracy: 0.2319 - 191ms/epoch - 3ms/step\n",
            "Epoch 42/60\n",
            "72/72 - 0s - loss: 1.8576 - accuracy: 0.2320 - 225ms/epoch - 3ms/step\n",
            "Epoch 43/60\n",
            "72/72 - 0s - loss: 1.8571 - accuracy: 0.2328 - 233ms/epoch - 3ms/step\n",
            "Epoch 44/60\n",
            "72/72 - 0s - loss: 1.8575 - accuracy: 0.2320 - 192ms/epoch - 3ms/step\n",
            "Epoch 45/60\n",
            "72/72 - 0s - loss: 1.8566 - accuracy: 0.2325 - 205ms/epoch - 3ms/step\n",
            "Epoch 46/60\n",
            "72/72 - 0s - loss: 1.8570 - accuracy: 0.2337 - 183ms/epoch - 3ms/step\n",
            "Epoch 47/60\n",
            "72/72 - 0s - loss: 1.8563 - accuracy: 0.2337 - 200ms/epoch - 3ms/step\n",
            "Epoch 48/60\n",
            "72/72 - 0s - loss: 1.8568 - accuracy: 0.2333 - 185ms/epoch - 3ms/step\n",
            "Epoch 49/60\n",
            "72/72 - 0s - loss: 1.8559 - accuracy: 0.2330 - 219ms/epoch - 3ms/step\n",
            "Epoch 50/60\n",
            "72/72 - 0s - loss: 1.8560 - accuracy: 0.2337 - 210ms/epoch - 3ms/step\n",
            "Epoch 51/60\n",
            "72/72 - 0s - loss: 1.8556 - accuracy: 0.2331 - 195ms/epoch - 3ms/step\n",
            "Epoch 52/60\n",
            "72/72 - 0s - loss: 1.8563 - accuracy: 0.2318 - 205ms/epoch - 3ms/step\n",
            "Epoch 53/60\n",
            "72/72 - 0s - loss: 1.8559 - accuracy: 0.2310 - 225ms/epoch - 3ms/step\n",
            "Epoch 54/60\n",
            "72/72 - 0s - loss: 1.8557 - accuracy: 0.2338 - 197ms/epoch - 3ms/step\n",
            "Epoch 55/60\n",
            "72/72 - 0s - loss: 1.8562 - accuracy: 0.2329 - 205ms/epoch - 3ms/step\n",
            "Epoch 56/60\n",
            "72/72 - 0s - loss: 1.8560 - accuracy: 0.2302 - 197ms/epoch - 3ms/step\n",
            "Epoch 57/60\n",
            "72/72 - 0s - loss: 1.8551 - accuracy: 0.2322 - 212ms/epoch - 3ms/step\n",
            "Epoch 58/60\n",
            "72/72 - 0s - loss: 1.8558 - accuracy: 0.2323 - 218ms/epoch - 3ms/step\n",
            "Epoch 59/60\n",
            "72/72 - 0s - loss: 1.8548 - accuracy: 0.2340 - 191ms/epoch - 3ms/step\n",
            "Epoch 60/60\n",
            "72/72 - 0s - loss: 1.8551 - accuracy: 0.2323 - 197ms/epoch - 3ms/step\n"
          ]
        },
        {
          "output_type": "execute_result",
          "data": {
            "text/plain": [
              "<keras.callbacks.History at 0x7ffaba878710>"
            ]
          },
          "metadata": {},
          "execution_count": 429
        }
      ]
    },
    {
      "cell_type": "code",
      "metadata": {
        "colab": {
          "base_uri": "https://localhost:8080/"
        },
        "id": "zzuZ3lwp1X6b",
        "outputId": "a32884ab-ee94-4cf8-9086-687fd0679f77"
      },
      "source": [
        "predy = model.predict(testX)\n",
        "#length = len(predy)\n",
        "testy_label = np.argmax(testy_cat , axis=1)\n",
        "predy_label = np.argmax(predy , axis=1)\n",
        "\n",
        "acc_model = np.sum(testy_label==predy_label)/length * 100\n",
        "print(\"Accuracy of the dataset\",acc_model )"
      ],
      "execution_count": 430,
      "outputs": [
        {
          "output_type": "stream",
          "name": "stdout",
          "text": [
            "Accuracy of the dataset 23.799999999999997\n"
          ]
        }
      ]
    },
    {
      "cell_type": "code",
      "metadata": {
        "id": "nRKeCggW2Q--"
      },
      "source": [
        "model_cm = confusion_matrix(testy_label, predy_label)"
      ],
      "execution_count": 434,
      "outputs": []
    },
    {
      "cell_type": "code",
      "metadata": {
        "colab": {
          "base_uri": "https://localhost:8080/"
        },
        "id": "UNPXFYvc2hH7",
        "outputId": "efa5027f-81b2-4f1d-bcf8-0c379a5289ac"
      },
      "source": [
        "print(model_cm)"
      ],
      "execution_count": 435,
      "outputs": [
        {
          "output_type": "stream",
          "name": "stdout",
          "text": [
            "[[435  32   0   0   0   0   0]\n",
            " [341  41   0   0   0   0   0]\n",
            " [199  30   0   0   0   0   0]\n",
            " [299  46   0   0   0   0   0]\n",
            " [254  16   0   0   0   0   0]\n",
            " [161  19   0   0   0   0   0]\n",
            " [121   6   0   0   0   0   0]]\n"
          ]
        }
      ]
    },
    {
      "cell_type": "code",
      "metadata": {
        "id": "VqJUHwbI60w1",
        "colab": {
          "base_uri": "https://localhost:8080/"
        },
        "outputId": "b9855a52-041a-4c48-c9e5-2730b971c405"
      },
      "source": [
        "target_names = ['Class 0', 'Class 1', 'CLass 2', 'Class 3', 'Class 4', 'Class 5', 'Class 6']\n",
        "model_cr = classification_report(testy_label, predy_label, target_names = target_names)\n",
        "print(model_cr)"
      ],
      "execution_count": 439,
      "outputs": [
        {
          "output_type": "stream",
          "name": "stdout",
          "text": [
            "              precision    recall  f1-score   support\n",
            "\n",
            "     Class 0       0.24      0.93      0.38       467\n",
            "     Class 1       0.22      0.11      0.14       382\n",
            "     CLass 2       0.00      0.00      0.00       229\n",
            "     Class 3       0.00      0.00      0.00       345\n",
            "     Class 4       0.00      0.00      0.00       270\n",
            "     Class 5       0.00      0.00      0.00       180\n",
            "     Class 6       0.00      0.00      0.00       127\n",
            "\n",
            "    accuracy                           0.24      2000\n",
            "   macro avg       0.07      0.15      0.08      2000\n",
            "weighted avg       0.10      0.24      0.12      2000\n",
            "\n"
          ]
        },
        {
          "output_type": "stream",
          "name": "stderr",
          "text": [
            "/usr/local/lib/python3.7/dist-packages/sklearn/metrics/_classification.py:1308: UndefinedMetricWarning: Precision and F-score are ill-defined and being set to 0.0 in labels with no predicted samples. Use `zero_division` parameter to control this behavior.\n",
            "  _warn_prf(average, modifier, msg_start, len(result))\n",
            "/usr/local/lib/python3.7/dist-packages/sklearn/metrics/_classification.py:1308: UndefinedMetricWarning: Precision and F-score are ill-defined and being set to 0.0 in labels with no predicted samples. Use `zero_division` parameter to control this behavior.\n",
            "  _warn_prf(average, modifier, msg_start, len(result))\n",
            "/usr/local/lib/python3.7/dist-packages/sklearn/metrics/_classification.py:1308: UndefinedMetricWarning: Precision and F-score are ill-defined and being set to 0.0 in labels with no predicted samples. Use `zero_division` parameter to control this behavior.\n",
            "  _warn_prf(average, modifier, msg_start, len(result))\n"
          ]
        }
      ]
    },
    {
      "cell_type": "markdown",
      "metadata": {
        "id": "L8oHOQr_jl-e"
      },
      "source": [
        "## **MLP Classifier**"
      ]
    },
    {
      "cell_type": "code",
      "metadata": {
        "id": "T2gxGXZ7j5_X"
      },
      "source": [
        "trainX, testX, trainy, testy = train_test_split(feature,\n",
        "                                label,\n",
        "                                test_size=0.1,\n",
        "                                random_state = 42)"
      ],
      "execution_count": 440,
      "outputs": []
    },
    {
      "cell_type": "code",
      "metadata": {
        "id": "qPdvWBCBHkkV"
      },
      "source": [
        "from sklearn.neural_network import MLPClassifier\n",
        "from sklearn.exceptions import ConvergenceWarning"
      ],
      "execution_count": 441,
      "outputs": []
    },
    {
      "cell_type": "code",
      "metadata": {
        "colab": {
          "base_uri": "https://localhost:8080/"
        },
        "id": "zf4XBiPbHk-7",
        "outputId": "45edb8d9-eb90-410e-b03d-ff727b80bfa3"
      },
      "source": [
        "clf = MLPClassifier(random_state=1, max_iter=300, alpha=1)\n",
        "clf.fit(trainX, trainy)\n"
      ],
      "execution_count": 442,
      "outputs": [
        {
          "output_type": "execute_result",
          "data": {
            "text/plain": [
              "MLPClassifier(alpha=1, max_iter=300, random_state=1)"
            ]
          },
          "metadata": {},
          "execution_count": 442
        }
      ]
    },
    {
      "cell_type": "code",
      "metadata": {
        "colab": {
          "base_uri": "https://localhost:8080/"
        },
        "id": "WGs5lNcDHqS8",
        "outputId": "b5158ad5-9940-42a0-fac9-f7e2f9e20144"
      },
      "source": [
        "mlp_acc = clf.score(trainX, trainy)\n",
        "print(\"MLP Train Accuracy :: \", mlp_acc)"
      ],
      "execution_count": 443,
      "outputs": [
        {
          "output_type": "stream",
          "name": "stdout",
          "text": [
            "MLP Train Accuracy ::  0.2308888888888889\n"
          ]
        }
      ]
    },
    {
      "cell_type": "code",
      "metadata": {
        "colab": {
          "base_uri": "https://localhost:8080/"
        },
        "id": "215-mGKVIN-Q",
        "outputId": "fc0d11ef-35eb-450a-f60c-95845ae3484f"
      },
      "source": [
        "predy = clf.predict(testX)\n",
        "mlp_acc = accuracy_score(testy, predy)\n",
        "print(\"MLP Test Accuracy :: \", mlp_acc)"
      ],
      "execution_count": 444,
      "outputs": [
        {
          "output_type": "stream",
          "name": "stdout",
          "text": [
            "MLP Test Accuracy ::  0.2335\n"
          ]
        }
      ]
    },
    {
      "cell_type": "code",
      "metadata": {
        "id": "uu7TGYLLTOEy"
      },
      "source": [
        "model_cm = confusion_matrix(testy, predy)"
      ],
      "execution_count": 445,
      "outputs": []
    },
    {
      "cell_type": "code",
      "metadata": {
        "colab": {
          "base_uri": "https://localhost:8080/"
        },
        "id": "AAlS52OuVXJk",
        "outputId": "34307430-de9c-4245-ccaa-136cb43c33e6"
      },
      "source": [
        "print(\"Confusion Matrix for MLP Classifier :: \\n\", model_cm)"
      ],
      "execution_count": 446,
      "outputs": [
        {
          "output_type": "stream",
          "name": "stdout",
          "text": [
            "Confusion Matrix for MLP Classifier :: \n",
            " [[467   0   0   0   0   0   0]\n",
            " [382   0   0   0   0   0   0]\n",
            " [229   0   0   0   0   0   0]\n",
            " [345   0   0   0   0   0   0]\n",
            " [270   0   0   0   0   0   0]\n",
            " [180   0   0   0   0   0   0]\n",
            " [127   0   0   0   0   0   0]]\n"
          ]
        }
      ]
    },
    {
      "cell_type": "code",
      "metadata": {
        "colab": {
          "base_uri": "https://localhost:8080/"
        },
        "id": "c_9COzLXZIRP",
        "outputId": "2f3d1ed7-89c6-4d1f-d87a-ec76cfedfb76"
      },
      "source": [
        "target_names = ['Class 0', 'Class 1', 'CLass 2', 'Class 3', 'Class 4', 'Class 5', 'Class 6']\n",
        "model_cr = classification_report(testy, predy, target_names = target_names)\n",
        "print(model_cr)"
      ],
      "execution_count": 447,
      "outputs": [
        {
          "output_type": "stream",
          "name": "stdout",
          "text": [
            "              precision    recall  f1-score   support\n",
            "\n",
            "     Class 0       0.23      1.00      0.38       467\n",
            "     Class 1       0.00      0.00      0.00       382\n",
            "     CLass 2       0.00      0.00      0.00       229\n",
            "     Class 3       0.00      0.00      0.00       345\n",
            "     Class 4       0.00      0.00      0.00       270\n",
            "     Class 5       0.00      0.00      0.00       180\n",
            "     Class 6       0.00      0.00      0.00       127\n",
            "\n",
            "    accuracy                           0.23      2000\n",
            "   macro avg       0.03      0.14      0.05      2000\n",
            "weighted avg       0.05      0.23      0.09      2000\n",
            "\n"
          ]
        },
        {
          "output_type": "stream",
          "name": "stderr",
          "text": [
            "/usr/local/lib/python3.7/dist-packages/sklearn/metrics/_classification.py:1308: UndefinedMetricWarning: Precision and F-score are ill-defined and being set to 0.0 in labels with no predicted samples. Use `zero_division` parameter to control this behavior.\n",
            "  _warn_prf(average, modifier, msg_start, len(result))\n",
            "/usr/local/lib/python3.7/dist-packages/sklearn/metrics/_classification.py:1308: UndefinedMetricWarning: Precision and F-score are ill-defined and being set to 0.0 in labels with no predicted samples. Use `zero_division` parameter to control this behavior.\n",
            "  _warn_prf(average, modifier, msg_start, len(result))\n",
            "/usr/local/lib/python3.7/dist-packages/sklearn/metrics/_classification.py:1308: UndefinedMetricWarning: Precision and F-score are ill-defined and being set to 0.0 in labels with no predicted samples. Use `zero_division` parameter to control this behavior.\n",
            "  _warn_prf(average, modifier, msg_start, len(result))\n"
          ]
        }
      ]
    },
    {
      "cell_type": "markdown",
      "metadata": {
        "id": "LA3aVNjpk48d"
      },
      "source": [
        "### **KerasClassifier**"
      ]
    },
    {
      "cell_type": "code",
      "metadata": {
        "id": "Cbt5sVJb_0nh"
      },
      "source": [
        "trainX, testX, trainy, testy = train_test_split(feature,\n",
        "                                label,\n",
        "                                test_size=0.1,\n",
        "                                random_state = 42)"
      ],
      "execution_count": 448,
      "outputs": []
    },
    {
      "cell_type": "code",
      "metadata": {
        "id": "DEH9dUG0CceM"
      },
      "source": [
        "trainy_cat = np_utils.to_categorical(trainy, num_classes=7)\n",
        "testy_cat = np_utils.to_categorical(testy, num_classes=7)"
      ],
      "execution_count": 449,
      "outputs": []
    },
    {
      "cell_type": "code",
      "metadata": {
        "colab": {
          "base_uri": "https://localhost:8080/"
        },
        "id": "fE8IfO2aCc0L",
        "outputId": "11949f99-a007-4ff3-d5d4-d132ac8ca632"
      },
      "source": [
        "print('y_train shape::', trainy_cat.shape)\n",
        "print('y_test shape::', testy_cat.shape)"
      ],
      "execution_count": 450,
      "outputs": [
        {
          "output_type": "stream",
          "name": "stdout",
          "text": [
            "y_train shape:: (18000, 7)\n",
            "y_test shape:: (2000, 7)\n"
          ]
        }
      ]
    },
    {
      "cell_type": "code",
      "metadata": {
        "id": "0jTO__TsVqS8"
      },
      "source": [
        "# define the model\n",
        "def create_classifier():\n",
        "    model = Sequential()\n",
        "\n",
        "    model.add(Dense(64, input_dim=trainX.shape[1], activation='relu', kernel_initializer='uniform'))\n",
        "\n",
        "    model.add(Dense(64, activation = 'relu', kernel_initializer='uniform'))\n",
        "    model.add(BatchNormalization())\n",
        "    model.add(Dropout(0.2))\n",
        "\n",
        "    model.add(Dense(64, activation = 'relu', kernel_initializer='uniform'))\n",
        "    model.add(BatchNormalization())\n",
        "    model.add(Dropout(0.2))\n",
        "\n",
        "    model.add(Dense(7, activation='softmax', kernel_initializer='uniform'))\n",
        "\n",
        "    model.compile(loss='categorical_crossentropy', optimizer='sgd', metrics=['accuracy'])\n",
        "\n",
        "    return model\n"
      ],
      "execution_count": 451,
      "outputs": []
    },
    {
      "cell_type": "code",
      "metadata": {
        "id": "8xlW2lIJXU16"
      },
      "source": [
        "keras_classifier = KerasClassifier(build_fn = create_classifier, batch_size = 250, epochs = 100)"
      ],
      "execution_count": 452,
      "outputs": []
    },
    {
      "cell_type": "code",
      "metadata": {
        "id": "Q648MqOYWRGG"
      },
      "source": [
        "accuracy = cross_val_score(estimator = keras_classifier, X = trainX, y = trainy_cat, cv = 5, n_jobs = -1)"
      ],
      "execution_count": 453,
      "outputs": []
    },
    {
      "cell_type": "code",
      "metadata": {
        "colab": {
          "base_uri": "https://localhost:8080/"
        },
        "id": "XSlrq67BXB-L",
        "outputId": "beae0e90-85d4-4f27-a908-9e9dd46a660f"
      },
      "source": [
        "acc_mean = accuracy.mean()\n",
        "print(\"Mean of Accuracy :: \", acc_mean)"
      ],
      "execution_count": 454,
      "outputs": [
        {
          "output_type": "stream",
          "name": "stdout",
          "text": [
            "Mean of Accuracy ::  0.2232222222222222\n"
          ]
        }
      ]
    },
    {
      "cell_type": "markdown",
      "metadata": {
        "id": "cYybaWQWlA7I"
      },
      "source": [
        "# **GridSearchCV**"
      ]
    },
    {
      "cell_type": "code",
      "metadata": {
        "id": "ScZRM15iZ-C7"
      },
      "source": [
        "parameters = {'batch_size' : [350, 650, 750],\n",
        "              'epochs' : [60, 150, 350],\n",
        "              }\n",
        "\n",
        "grid = GridSearchCV(estimator = keras_classifier, \n",
        "                    param_grid = parameters,\n",
        "                    n_jobs = -1,\n",
        "                    scoring = \"accuracy\",\n",
        "                    cv = 5)"
      ],
      "execution_count": 455,
      "outputs": []
    },
    {
      "cell_type": "code",
      "metadata": {
        "colab": {
          "base_uri": "https://localhost:8080/"
        },
        "id": "gzHQqu5AbcNX",
        "outputId": "eee0265b-4848-4dee-c674-ad1cdaf3dc3f"
      },
      "source": [
        "grid = grid.fit(trainX, trainy_cat)"
      ],
      "execution_count": 456,
      "outputs": [
        {
          "output_type": "stream",
          "name": "stderr",
          "text": [
            "/usr/local/lib/python3.7/dist-packages/scikeras/wrappers.py:290: UserWarning: ``build_fn`` will be renamed to ``model`` in a future release, at which point use of ``build_fn`` will raise an Error instead.\n",
            "  \"``build_fn`` will be renamed to ``model`` in a future release,\"\n"
          ]
        },
        {
          "output_type": "stream",
          "name": "stdout",
          "text": [
            "Epoch 1/60\n",
            "28/28 [==============================] - 1s 7ms/step - loss: 1.9439 - accuracy: 0.1556\n",
            "Epoch 2/60\n",
            "28/28 [==============================] - 0s 7ms/step - loss: 1.9361 - accuracy: 0.1934\n",
            "Epoch 3/60\n",
            "28/28 [==============================] - 0s 8ms/step - loss: 1.9309 - accuracy: 0.2071\n",
            "Epoch 4/60\n",
            "28/28 [==============================] - 0s 7ms/step - loss: 1.9253 - accuracy: 0.2179\n",
            "Epoch 5/60\n",
            "28/28 [==============================] - 0s 7ms/step - loss: 1.9199 - accuracy: 0.2221\n",
            "Epoch 6/60\n",
            "28/28 [==============================] - 0s 7ms/step - loss: 1.9156 - accuracy: 0.2244\n",
            "Epoch 7/60\n",
            "28/28 [==============================] - 0s 7ms/step - loss: 1.9109 - accuracy: 0.2246\n",
            "Epoch 8/60\n",
            "28/28 [==============================] - 0s 7ms/step - loss: 1.9073 - accuracy: 0.2274\n",
            "Epoch 9/60\n",
            "28/28 [==============================] - 0s 7ms/step - loss: 1.9038 - accuracy: 0.2296\n",
            "Epoch 10/60\n",
            "28/28 [==============================] - 0s 7ms/step - loss: 1.9005 - accuracy: 0.2292\n",
            "Epoch 11/60\n",
            "28/28 [==============================] - 0s 7ms/step - loss: 1.8975 - accuracy: 0.2301\n",
            "Epoch 12/60\n",
            "28/28 [==============================] - 0s 7ms/step - loss: 1.8943 - accuracy: 0.2303\n",
            "Epoch 13/60\n",
            "28/28 [==============================] - 0s 7ms/step - loss: 1.8921 - accuracy: 0.2316\n",
            "Epoch 14/60\n",
            "28/28 [==============================] - 0s 7ms/step - loss: 1.8895 - accuracy: 0.2316\n",
            "Epoch 15/60\n",
            "28/28 [==============================] - 0s 7ms/step - loss: 1.8873 - accuracy: 0.2307\n",
            "Epoch 16/60\n",
            "28/28 [==============================] - 0s 7ms/step - loss: 1.8852 - accuracy: 0.2307\n",
            "Epoch 17/60\n",
            "28/28 [==============================] - 0s 7ms/step - loss: 1.8835 - accuracy: 0.2311\n",
            "Epoch 18/60\n",
            "28/28 [==============================] - 0s 8ms/step - loss: 1.8816 - accuracy: 0.2298\n",
            "Epoch 19/60\n",
            "28/28 [==============================] - 0s 7ms/step - loss: 1.8802 - accuracy: 0.2312\n",
            "Epoch 20/60\n",
            "28/28 [==============================] - 0s 7ms/step - loss: 1.8789 - accuracy: 0.2317\n",
            "Epoch 21/60\n",
            "28/28 [==============================] - 0s 7ms/step - loss: 1.8775 - accuracy: 0.2319\n",
            "Epoch 22/60\n",
            "28/28 [==============================] - 0s 7ms/step - loss: 1.8762 - accuracy: 0.2314\n",
            "Epoch 23/60\n",
            "28/28 [==============================] - 0s 7ms/step - loss: 1.8750 - accuracy: 0.2314\n",
            "Epoch 24/60\n",
            "28/28 [==============================] - 0s 8ms/step - loss: 1.8734 - accuracy: 0.2319\n",
            "Epoch 25/60\n",
            "28/28 [==============================] - 0s 7ms/step - loss: 1.8727 - accuracy: 0.2313\n",
            "Epoch 26/60\n",
            "28/28 [==============================] - 0s 7ms/step - loss: 1.8719 - accuracy: 0.2321\n",
            "Epoch 27/60\n",
            "28/28 [==============================] - 0s 7ms/step - loss: 1.8710 - accuracy: 0.2312\n",
            "Epoch 28/60\n",
            "28/28 [==============================] - 0s 7ms/step - loss: 1.8698 - accuracy: 0.2316\n",
            "Epoch 29/60\n",
            "28/28 [==============================] - 0s 7ms/step - loss: 1.8693 - accuracy: 0.2315\n",
            "Epoch 30/60\n",
            "28/28 [==============================] - 0s 7ms/step - loss: 1.8683 - accuracy: 0.2323\n",
            "Epoch 31/60\n",
            "28/28 [==============================] - 0s 7ms/step - loss: 1.8679 - accuracy: 0.2313\n",
            "Epoch 32/60\n",
            "28/28 [==============================] - 0s 7ms/step - loss: 1.8669 - accuracy: 0.2323\n",
            "Epoch 33/60\n",
            "28/28 [==============================] - 0s 7ms/step - loss: 1.8666 - accuracy: 0.2333\n",
            "Epoch 34/60\n",
            "28/28 [==============================] - 0s 7ms/step - loss: 1.8659 - accuracy: 0.2311\n",
            "Epoch 35/60\n",
            "28/28 [==============================] - 0s 7ms/step - loss: 1.8656 - accuracy: 0.2322\n",
            "Epoch 36/60\n",
            "28/28 [==============================] - 0s 7ms/step - loss: 1.8649 - accuracy: 0.2333\n",
            "Epoch 37/60\n",
            "28/28 [==============================] - 0s 7ms/step - loss: 1.8648 - accuracy: 0.2326\n",
            "Epoch 38/60\n",
            "28/28 [==============================] - 0s 7ms/step - loss: 1.8640 - accuracy: 0.2317\n",
            "Epoch 39/60\n",
            "28/28 [==============================] - 0s 7ms/step - loss: 1.8639 - accuracy: 0.2327\n",
            "Epoch 40/60\n",
            "28/28 [==============================] - 0s 7ms/step - loss: 1.8632 - accuracy: 0.2334\n",
            "Epoch 41/60\n",
            "28/28 [==============================] - 0s 7ms/step - loss: 1.8628 - accuracy: 0.2323\n",
            "Epoch 42/60\n",
            "28/28 [==============================] - 0s 8ms/step - loss: 1.8623 - accuracy: 0.2313\n",
            "Epoch 43/60\n",
            "28/28 [==============================] - 0s 7ms/step - loss: 1.8625 - accuracy: 0.2329\n",
            "Epoch 44/60\n",
            "28/28 [==============================] - 0s 7ms/step - loss: 1.8624 - accuracy: 0.2326\n",
            "Epoch 45/60\n",
            "28/28 [==============================] - 0s 7ms/step - loss: 1.8618 - accuracy: 0.2326\n",
            "Epoch 46/60\n",
            "28/28 [==============================] - 0s 7ms/step - loss: 1.8613 - accuracy: 0.2328\n",
            "Epoch 47/60\n",
            "28/28 [==============================] - 0s 7ms/step - loss: 1.8609 - accuracy: 0.2318\n",
            "Epoch 48/60\n",
            "28/28 [==============================] - 0s 7ms/step - loss: 1.8607 - accuracy: 0.2341\n",
            "Epoch 49/60\n",
            "28/28 [==============================] - 0s 7ms/step - loss: 1.8609 - accuracy: 0.2316\n",
            "Epoch 50/60\n",
            "28/28 [==============================] - 0s 8ms/step - loss: 1.8607 - accuracy: 0.2322\n",
            "Epoch 51/60\n",
            "28/28 [==============================] - 0s 7ms/step - loss: 1.8608 - accuracy: 0.2333\n",
            "Epoch 52/60\n",
            "28/28 [==============================] - 0s 7ms/step - loss: 1.8597 - accuracy: 0.2329\n",
            "Epoch 53/60\n",
            "28/28 [==============================] - 0s 7ms/step - loss: 1.8600 - accuracy: 0.2337\n",
            "Epoch 54/60\n",
            "28/28 [==============================] - 0s 7ms/step - loss: 1.8598 - accuracy: 0.2321\n",
            "Epoch 55/60\n",
            "28/28 [==============================] - 0s 7ms/step - loss: 1.8596 - accuracy: 0.2335\n",
            "Epoch 56/60\n",
            "28/28 [==============================] - 0s 7ms/step - loss: 1.8595 - accuracy: 0.2325\n",
            "Epoch 57/60\n",
            "28/28 [==============================] - 0s 7ms/step - loss: 1.8591 - accuracy: 0.2330\n",
            "Epoch 58/60\n",
            "28/28 [==============================] - 0s 7ms/step - loss: 1.8593 - accuracy: 0.2310\n",
            "Epoch 59/60\n",
            "28/28 [==============================] - 0s 7ms/step - loss: 1.8587 - accuracy: 0.2326\n",
            "Epoch 60/60\n",
            "28/28 [==============================] - 0s 7ms/step - loss: 1.8587 - accuracy: 0.2329\n"
          ]
        }
      ]
    },
    {
      "cell_type": "code",
      "metadata": {
        "id": "1GeD8uUBbk-F"
      },
      "source": [
        "best_para = grid.best_params_\n"
      ],
      "execution_count": 457,
      "outputs": []
    },
    {
      "cell_type": "code",
      "metadata": {
        "id": "ye4ZgvVNf55t"
      },
      "source": [
        "best_acc = grid.best_score_"
      ],
      "execution_count": 458,
      "outputs": []
    },
    {
      "cell_type": "code",
      "metadata": {
        "colab": {
          "base_uri": "https://localhost:8080/"
        },
        "id": "prWKD_tWfb1H",
        "outputId": "3173f24c-73b9-4fc3-87c6-9fdf29ffbe66"
      },
      "source": [
        "print(\"Best Parameteers ::\", best_para)\n",
        "print(\"Best Accuracy ::\", best_acc)"
      ],
      "execution_count": 459,
      "outputs": [
        {
          "output_type": "stream",
          "name": "stdout",
          "text": [
            "Best Parameteers :: {'batch_size': 650, 'epochs': 60}\n",
            "Best Accuracy :: 0.22933333333333333\n"
          ]
        }
      ]
    },
    {
      "cell_type": "code",
      "metadata": {
        "id": "LjhTcHPTfhoi"
      },
      "source": [
        ""
      ],
      "execution_count": null,
      "outputs": []
    }
  ]
}
